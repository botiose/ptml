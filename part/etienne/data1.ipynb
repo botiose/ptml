{
 "cells": [
  {
   "cell_type": "code",
   "execution_count": 54,
   "metadata": {
    "scrolled": true
   },
   "outputs": [
    {
     "name": "stdout",
     "output_type": "stream",
     "text": [
      "With dropped rows :\n",
      "<class 'pandas.core.frame.DataFrame'>\n",
      "Int64Index: 0 entries\n",
      "Data columns (total 14 columns):\n",
      " #   Column     Non-Null Count  Dtype  \n",
      "---  ------     --------------  -----  \n",
      " 0   pclass     0 non-null      int64  \n",
      " 1   survived   0 non-null      int64  \n",
      " 2   name       0 non-null      object \n",
      " 3   sex        0 non-null      object \n",
      " 4   age        0 non-null      float64\n",
      " 5   sibsp      0 non-null      int64  \n",
      " 6   parch      0 non-null      int64  \n",
      " 7   ticket     0 non-null      object \n",
      " 8   fare       0 non-null      float64\n",
      " 9   cabin      0 non-null      object \n",
      " 10  embarked   0 non-null      object \n",
      " 11  boat       0 non-null      object \n",
      " 12  body       0 non-null      float64\n",
      " 13  home.dest  0 non-null      object \n",
      "dtypes: float64(3), int64(4), object(7)\n",
      "memory usage: 0.0+ bytes\n",
      "None \n",
      "\n"
     ]
    }
   ],
   "source": [
    "import pandas as pd\n",
    "from numpy.random import randint\n",
    "\n",
    "d1 = pd.read_csv(\"./data1.csv\")\n",
    "\n",
    "# print(d1.info(), \"\\n\")\n",
    "\n",
    "d3 = d1.dropna(axis='index')\n",
    "print(\"With dropped rows :\")\n",
    "print(d3.info(), \"\\n\")\n",
    "\n"
   ]
  },
  {
   "cell_type": "code",
   "execution_count": 55,
   "metadata": {},
   "outputs": [
    {
     "name": "stdout",
     "output_type": "stream",
     "text": [
      "With dropped columns :\n",
      "<class 'pandas.core.frame.DataFrame'>\n",
      "RangeIndex: 1309 entries, 0 to 1308\n",
      "Data columns (total 7 columns):\n",
      " #   Column    Non-Null Count  Dtype \n",
      "---  ------    --------------  ----- \n",
      " 0   pclass    1309 non-null   int64 \n",
      " 1   survived  1309 non-null   int64 \n",
      " 2   name      1309 non-null   object\n",
      " 3   sex       1309 non-null   object\n",
      " 4   sibsp     1309 non-null   int64 \n",
      " 5   parch     1309 non-null   int64 \n",
      " 6   ticket    1309 non-null   object\n",
      "dtypes: int64(4), object(3)\n",
      "memory usage: 71.7+ KB\n",
      "None \n",
      "\n"
     ]
    }
   ],
   "source": [
    "d2 = d1.dropna(axis='columns')\n",
    "print(\"With dropped columns :\")\n",
    "print(d2.info(), \"\\n\")"
   ]
  },
  {
   "cell_type": "code",
   "execution_count": 56,
   "metadata": {},
   "outputs": [
    {
     "name": "stdout",
     "output_type": "stream",
     "text": [
      "With dropped rows :\n",
      "<class 'pandas.core.frame.DataFrame'>\n",
      "Int64Index: 0 entries\n",
      "Data columns (total 14 columns):\n",
      " #   Column     Non-Null Count  Dtype  \n",
      "---  ------     --------------  -----  \n",
      " 0   pclass     0 non-null      int64  \n",
      " 1   survived   0 non-null      int64  \n",
      " 2   name       0 non-null      object \n",
      " 3   sex        0 non-null      object \n",
      " 4   age        0 non-null      float64\n",
      " 5   sibsp      0 non-null      int64  \n",
      " 6   parch      0 non-null      int64  \n",
      " 7   ticket     0 non-null      object \n",
      " 8   fare       0 non-null      float64\n",
      " 9   cabin      0 non-null      object \n",
      " 10  embarked   0 non-null      object \n",
      " 11  boat       0 non-null      object \n",
      " 12  body       0 non-null      float64\n",
      " 13  home.dest  0 non-null      object \n",
      "dtypes: float64(3), int64(4), object(7)\n",
      "memory usage: 0.0+ bytes\n",
      "None \n",
      "\n"
     ]
    }
   ],
   "source": [
    "d3 = d1.dropna(axis='index')\n",
    "print(\"With dropped rows :\")\n",
    "print(d3.info(), \"\\n\")"
   ]
  },
  {
   "cell_type": "code",
   "execution_count": 57,
   "metadata": {},
   "outputs": [
    {
     "name": "stdout",
     "output_type": "stream",
     "text": [
      "      pclass  survived                                            name  \\\n",
      "42         1         1  Brown, Mrs. John Murray (Caroline Lane Lamson)   \n",
      "109        1         1                Flynn, Mr. John Irwin (\"Irving\")   \n",
      "456        2         0    Howard, Mrs. Benjamin (Ellen Truelove Arman)   \n",
      "590        2         1                           West, Miss. Barbara J   \n",
      "1150       3         0                        Risien, Mr. Samuel Beard   \n",
      "\n",
      "         sex      age  sibsp  parch      ticket     fare cabin embarked boat  \\\n",
      "42    female  59.0000      2      0       11769  51.4792  C101        S    D   \n",
      "109     male  36.0000      0      0    PC 17474  26.3875   E25        S    5   \n",
      "456   female  60.0000      1      0       24065  26.0000   NaN        S  NaN   \n",
      "590   female   0.9167      1      2  C.A. 34651  27.7500   NaN        S   10   \n",
      "1150    male      NaN      0      0      364498  14.5000   NaN        S  NaN   \n",
      "\n",
      "      body            home.dest  \n",
      "42     NaN          Belmont, MA  \n",
      "109    NaN         Brooklyn, NY  \n",
      "456    NaN     Swindon, England  \n",
      "590    NaN  Bournmouth, England  \n",
      "1150   NaN                  NaN  \n"
     ]
    }
   ],
   "source": [
    "n_rows = d1.shape[0]\n",
    "rand_vect = randint(0 , n_rows , size=5)\n",
    "\n",
    "# prettier\n",
    "rand_vect.sort()\n",
    "\n",
    "print(d1.loc[rand_vect])"
   ]
  },
  {
   "cell_type": "markdown",
   "metadata": {},
   "source": [
    "## Answers\n",
    "\n",
    "Colonnes avec le plus de valeurs manquantes (nombre de valeurs existante/nombre total de valeurs):\n",
    "* body (121/1309)\n",
    "* cabin (295/1309)\n",
    "* boat (486/1309)"
   ]
  },
  {
   "cell_type": "code",
   "execution_count": 58,
   "metadata": {},
   "outputs": [
    {
     "name": "stdout",
     "output_type": "stream",
     "text": [
      "   pclass  survived                                             name     sex  \\\n",
      "0       1         1                    Allen, Miss. Elisabeth Walton  female   \n",
      "1       1         1                   Allison, Master. Hudson Trevor    male   \n",
      "2       1         0                     Allison, Miss. Helen Loraine  female   \n",
      "3       1         0             Allison, Mr. Hudson Joshua Creighton    male   \n",
      "4       1         0  Allison, Mrs. Hudson J C (Bessie Waldo Daniels)  female   \n",
      "\n",
      "       age  sibsp  parch  ticket      fare    cabin embarked boat   body  \\\n",
      "0  29.0000      0      0   24160  211.3375       B5        S    2    NaN   \n",
      "1   0.9167      1      2  113781  151.5500  C22 C26        S   11    NaN   \n",
      "2   2.0000      1      2  113781  151.5500  C22 C26        S  NaN    NaN   \n",
      "3  30.0000      1      2  113781  151.5500  C22 C26        S  NaN  135.0   \n",
      "4  25.0000      1      2  113781  151.5500  C22 C26        S  NaN    NaN   \n",
      "\n",
      "                         home.dest  \n",
      "0                     St Louis, MO  \n",
      "1  Montreal, PQ / Chesterville, ON  \n",
      "2  Montreal, PQ / Chesterville, ON  \n",
      "3  Montreal, PQ / Chesterville, ON  \n",
      "4  Montreal, PQ / Chesterville, ON  \n"
     ]
    }
   ],
   "source": [
    "class1 = d1[d1.pclass == 1]\n",
    "print(class1.head())"
   ]
  },
  {
   "cell_type": "code",
   "execution_count": 59,
   "metadata": {},
   "outputs": [
    {
     "name": "stdout",
     "output_type": "stream",
     "text": [
      "    pclass  survived                                  name   sex   age  sibsp  \\\n",
      "3        1         0  Allison, Mr. Hudson Joshua Creighton  male  30.0      1   \n",
      "5        1         1                   Anderson, Mr. Harry  male  48.0      0   \n",
      "7        1         0                Andrews, Mr. Thomas Jr  male  39.0      0   \n",
      "10       1         0                Astor, Col. John Jacob  male  47.0      1   \n",
      "19       1         0                  Beattie, Mr. Thomson  male  36.0      0   \n",
      "\n",
      "    parch    ticket      fare    cabin embarked boat   body  \\\n",
      "3       2    113781  151.5500  C22 C26        S  NaN  135.0   \n",
      "5       0     19952   26.5500      E12        S    3    NaN   \n",
      "7       0    112050    0.0000      A36        S  NaN    NaN   \n",
      "10      0  PC 17757  227.5250  C62 C64        C  NaN  124.0   \n",
      "19      0     13050   75.2417       C6        C    A    NaN   \n",
      "\n",
      "                          home.dest  \n",
      "3   Montreal, PQ / Chesterville, ON  \n",
      "5                      New York, NY  \n",
      "7                       Belfast, NI  \n",
      "10                     New York, NY  \n",
      "19                     Winnipeg, MN  \n"
     ]
    }
   ],
   "source": [
    "male_30_50 = d1[(d1.sex == 'male') & (d1.age >= 30) & (d1.age <= 50)]\n",
    "\n",
    "print(male_30_50.head())"
   ]
  },
  {
   "cell_type": "code",
   "execution_count": 64,
   "metadata": {},
   "outputs": [
    {
     "name": "stdout",
     "output_type": "stream",
     "text": [
      "Effectif:\n",
      "pclass\n",
      "1    323\n",
      "2    277\n",
      "3    709\n",
      "Name: pclass, dtype: int64 \n",
      "\n",
      "Age moyen, taux de survie des passagers:\n",
      "              age  survived\n",
      "pclass                     \n",
      "1       39.159918  0.619195\n",
      "2       29.506705  0.429603\n",
      "3       24.816367  0.255289 \n",
      "\n"
     ]
    }
   ],
   "source": [
    "grouped = d1.groupby('pclass')\n",
    "\n",
    "effectif = grouped['pclass'].count()\n",
    "\n",
    "print(\"Effectif:\")\n",
    "print(effectif, \"\\n\")\n",
    "\n",
    "print(\"Age moyen, taux de survie des passagers:\")\n",
    "print(grouped[[\"age\", \"survived\"]].mean(), \"\\n\")"
   ]
  }
 ],
 "metadata": {
  "kernelspec": {
   "display_name": "Python 3",
   "language": "python",
   "name": "python3"
  },
  "language_info": {
   "codemirror_mode": {
    "name": "ipython",
    "version": 3
   },
   "file_extension": ".py",
   "mimetype": "text/x-python",
   "name": "python",
   "nbconvert_exporter": "python",
   "pygments_lexer": "ipython3",
   "version": "3.9.1"
  }
 },
 "nbformat": 4,
 "nbformat_minor": 4
}
