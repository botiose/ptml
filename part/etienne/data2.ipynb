{
 "cells": [
  {
   "cell_type": "code",
   "execution_count": 9,
   "metadata": {},
   "outputs": [
    {
     "name": "stdout",
     "output_type": "stream",
     "text": [
      "<class 'pandas.core.frame.DataFrame'>\n",
      "RangeIndex: 3331 entries, 0 to 3330\n",
      "Data columns (total 18 columns):\n",
      " #   Column        Non-Null Count  Dtype  \n",
      "---  ------        --------------  -----  \n",
      " 0   id            3331 non-null   int64  \n",
      " 1   name          3331 non-null   object \n",
      " 2   dev           2706 non-null   float64\n",
      " 3   adm           2706 non-null   float64\n",
      " 4   dip           2706 non-null   float64\n",
      " 5   mil           2705 non-null   float64\n",
      " 6   goods         2705 non-null   object \n",
      " 7   trade_area    2802 non-null   object \n",
      " 8   flag          198 non-null    object \n",
      " 9   country       1960 non-null   object \n",
      " 10  religion      2695 non-null   object \n",
      " 11  culture       2695 non-null   object \n",
      " 12  cult_group    2695 non-null   object \n",
      " 13  type          3331 non-null   object \n",
      " 14  continent     2804 non-null   object \n",
      " 15  large_region  2706 non-null   object \n",
      " 16  region        3186 non-null   object \n",
      " 17  area          3186 non-null   object \n",
      "dtypes: float64(4), int64(1), object(13)\n",
      "memory usage: 468.5+ KB\n",
      "None\n"
     ]
    }
   ],
   "source": [
    "import pandas as pd\n",
    "\n",
    "dataset = pd.read_csv(\"./data2.csv\", sep=\";\",na_values='nan', skipinitialspace=True)\n",
    "\n",
    "print(dataset.info())"
   ]
  },
  {
   "cell_type": "code",
   "execution_count": 10,
   "metadata": {},
   "outputs": [
    {
     "name": "stdout",
     "output_type": "stream",
     "text": [
      "284.0\n"
     ]
    }
   ],
   "source": [
    "to_sum = dataset.loc[dataset.country.isin(['Muscovy', \"Ryazan\", \"Novgorod\"]) & (dataset.goods != \"Grain\")]\n",
    "\n",
    "total = to_sum.dev.sum()\n",
    "print(total)"
   ]
  },
  {
   "cell_type": "code",
   "execution_count": 17,
   "metadata": {},
   "outputs": [
    {
     "name": "stdout",
     "output_type": "stream",
     "text": [
      "254.0\n"
     ]
    }
   ],
   "source": [
    "to_sum = dataset.loc[dataset.country.isin(['Muscovy', \"Ryazan\", \"Novgorod\"]) & (dataset.goods != \"Grain\")]\n",
    "\n",
    "def update_dev_with_fur(x):\n",
    "    return max(3, x-5)\n",
    "    \n",
    "    \n",
    "to_sum.loc[to_sum.goods == \"Fur\",\n",
    "           'dev'] = to_sum.loc[to_sum.goods == 'Fur',\n",
    "           'dev'].apply(update_dev_with_fur)\n",
    "total = to_sum.dev.sum()\n",
    "print(total)"
   ]
  }
 ],
 "metadata": {
  "kernelspec": {
   "display_name": "Python 3",
   "language": "python",
   "name": "python3"
  },
  "language_info": {
   "codemirror_mode": {
    "name": "ipython",
    "version": 3
   },
   "file_extension": ".py",
   "mimetype": "text/x-python",
   "name": "python",
   "nbconvert_exporter": "python",
   "pygments_lexer": "ipython3",
   "version": "3.9.1"
  }
 },
 "nbformat": 4,
 "nbformat_minor": 4
}
